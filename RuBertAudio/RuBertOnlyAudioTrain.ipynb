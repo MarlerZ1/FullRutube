{
 "cells": [
  {
   "cell_type": "code",
   "execution_count": 1,
   "id": "4bfe0166-2d06-4417-94bc-a51e66ff1b14",
   "metadata": {},
   "outputs": [],
   "source": [
    "# Импорт необходимых библиотек\n",
    "import pandas as pd\n",
    "import torch\n",
    "from torch.utils.data import Dataset\n",
    "from transformers import AutoTokenizer, AutoModelForSequenceClassification, TrainingArguments, Trainer\n",
    "from sklearn.model_selection import train_test_split\n",
    "from sklearn.preprocessing import LabelEncoder\n",
    "import re\n",
    "import numpy as np\n",
    "import os"
   ]
  },
  {
   "cell_type": "code",
   "execution_count": 2,
   "id": "87933073-bbca-49cb-84e2-460f6e23643a",
   "metadata": {},
   "outputs": [
    {
     "name": "stdout",
     "output_type": "stream",
     "text": [
      "Using device: cuda\n"
     ]
    }
   ],
   "source": [
    "# Проверяем доступность устройства CUDA\n",
    "device = torch.device(\"cuda\" if torch.cuda.is_available() else \"cpu\")\n",
    "print(f\"Using device: {device}\")\n"
   ]
  },
  {
   "cell_type": "code",
   "execution_count": 3,
   "id": "93ee8a5f-80a5-4e86-83f1-0478ca6c461c",
   "metadata": {},
   "outputs": [],
   "source": [
    "# Загрузка и нормализация данных\n",
    "data_path = 'merged_data.csv'  # Укажите правильный путь к вашему файлу\n",
    "data = pd.read_csv(data_path)\n",
    "\n",
    "def normalize_text(text):\n",
    "    text = text.strip().lower()\n",
    "    text = re.sub(r'\\s+', ' ', text)  # Удаление лишних пробелов\n",
    "    text = re.sub(r'[^\\w\\s]', '', text)  # Удаление пунктуации\n",
    "    return text\n",
    "\n",
    "data[\"summarized_text\"] = data[\"summarized_text\"].apply(normalize_text)\n"
   ]
  },
  {
   "cell_type": "code",
   "execution_count": 4,
   "id": "85df0af4-a7c6-4b21-b398-2e1a7bda1a13",
   "metadata": {},
   "outputs": [
    {
     "name": "stdout",
     "output_type": "stream",
     "text": [
      "Файл 'test_data_tags.csv' успешно создан.\n"
     ]
    }
   ],
   "source": [
    "# Кодирование меток\n",
    "label_encoder = LabelEncoder()\n",
    "data[\"encoded_tags\"] = label_encoder.fit_transform(data[\"tags\"].apply(lambda x: x.split(',')[0]))  # Одиночные метки\n",
    "\n",
    "# Разделение данных\n",
    "train_data, test_data = train_test_split(data, test_size=0.2, random_state=42)\n",
    "\n",
    "# Сохранение тестового набора\n",
    "test_data.to_csv('test_data_tags.csv', index=False)\n",
    "print(\"Файл 'test_data_tags.csv' успешно создан.\")\n"
   ]
  },
  {
   "cell_type": "code",
   "execution_count": 5,
   "id": "0b279011-27b8-4f0d-8558-12f56c930757",
   "metadata": {},
   "outputs": [],
   "source": [
    "# Используем модель RuBERT\n",
    "model_name = \"DeepPavlov/rubert-base-cased\"\n",
    "tokenizer = AutoTokenizer.from_pretrained(model_name)\n",
    "\n",
    "train_encodings = tokenizer(train_data['summarized_text'].tolist(), truncation=True, padding=True, max_length=256)\n",
    "test_encodings = tokenizer(test_data['summarized_text'].tolist(), truncation=True, padding=True, max_length=256)\n"
   ]
  },
  {
   "cell_type": "code",
   "execution_count": 6,
   "id": "54cca5a6-0f9f-40fb-a810-5a583657a99b",
   "metadata": {},
   "outputs": [
    {
     "name": "stderr",
     "output_type": "stream",
     "text": [
      "Some weights of BertForSequenceClassification were not initialized from the model checkpoint at DeepPavlov/rubert-base-cased and are newly initialized: ['classifier.bias', 'classifier.weight']\n",
      "You should probably TRAIN this model on a down-stream task to be able to use it for predictions and inference.\n",
      "/usr/local/lib/python3.10/dist-packages/transformers/training_args.py:1545: FutureWarning: `evaluation_strategy` is deprecated and will be removed in version 4.46 of 🤗 Transformers. Use `eval_strategy` instead\n",
      "  warnings.warn(\n",
      "/home/user1/.local/lib/python3.10/site-packages/accelerate/accelerator.py:494: FutureWarning: `torch.cuda.amp.GradScaler(args...)` is deprecated. Please use `torch.amp.GradScaler('cuda', args...)` instead.\n",
      "  self.scaler = torch.cuda.amp.GradScaler(**kwargs)\n"
     ]
    },
    {
     "data": {
      "text/html": [
       "\n",
       "    <div>\n",
       "      \n",
       "      <progress value='1530' max='1530' style='width:300px; height:20px; vertical-align: middle;'></progress>\n",
       "      [1530/1530 02:21, Epoch 30/30]\n",
       "    </div>\n",
       "    <table border=\"1\" class=\"dataframe\">\n",
       "  <thead>\n",
       " <tr style=\"text-align: left;\">\n",
       "      <th>Step</th>\n",
       "      <th>Training Loss</th>\n",
       "    </tr>\n",
       "  </thead>\n",
       "  <tbody>\n",
       "    <tr>\n",
       "      <td>100</td>\n",
       "      <td>3.651100</td>\n",
       "    </tr>\n",
       "    <tr>\n",
       "      <td>200</td>\n",
       "      <td>2.947600</td>\n",
       "    </tr>\n",
       "    <tr>\n",
       "      <td>300</td>\n",
       "      <td>2.391900</td>\n",
       "    </tr>\n",
       "    <tr>\n",
       "      <td>400</td>\n",
       "      <td>1.899400</td>\n",
       "    </tr>\n",
       "    <tr>\n",
       "      <td>500</td>\n",
       "      <td>1.536800</td>\n",
       "    </tr>\n",
       "    <tr>\n",
       "      <td>600</td>\n",
       "      <td>1.277100</td>\n",
       "    </tr>\n",
       "    <tr>\n",
       "      <td>700</td>\n",
       "      <td>1.132700</td>\n",
       "    </tr>\n",
       "    <tr>\n",
       "      <td>800</td>\n",
       "      <td>0.949000</td>\n",
       "    </tr>\n",
       "    <tr>\n",
       "      <td>900</td>\n",
       "      <td>0.841800</td>\n",
       "    </tr>\n",
       "    <tr>\n",
       "      <td>1000</td>\n",
       "      <td>0.760700</td>\n",
       "    </tr>\n",
       "    <tr>\n",
       "      <td>1100</td>\n",
       "      <td>0.692600</td>\n",
       "    </tr>\n",
       "    <tr>\n",
       "      <td>1200</td>\n",
       "      <td>0.636700</td>\n",
       "    </tr>\n",
       "    <tr>\n",
       "      <td>1300</td>\n",
       "      <td>0.620100</td>\n",
       "    </tr>\n",
       "    <tr>\n",
       "      <td>1400</td>\n",
       "      <td>0.549500</td>\n",
       "    </tr>\n",
       "    <tr>\n",
       "      <td>1500</td>\n",
       "      <td>0.542000</td>\n",
       "    </tr>\n",
       "  </tbody>\n",
       "</table><p>"
      ],
      "text/plain": [
       "<IPython.core.display.HTML object>"
      ]
     },
     "metadata": {},
     "output_type": "display_data"
    },
    {
     "data": {
      "text/plain": [
       "TrainOutput(global_step=1530, training_loss=1.3467003379771911, metrics={'train_runtime': 142.0621, 'train_samples_per_second': 169.785, 'train_steps_per_second': 10.77, 'total_flos': 3176424185978880.0, 'train_loss': 1.3467003379771911, 'epoch': 30.0})"
      ]
     },
     "execution_count": 6,
     "metadata": {},
     "output_type": "execute_result"
    }
   ],
   "source": [
    "class TaggingDataset(Dataset):\n",
    "    def __init__(self, encodings, labels):\n",
    "        self.encodings = encodings\n",
    "        self.labels = labels\n",
    "\n",
    "    def __getitem__(self, idx):\n",
    "        item = {key: torch.tensor(val[idx]) for key, val in self.encodings.items()}\n",
    "        item['labels'] = torch.tensor(self.labels[idx], dtype=torch.long)\n",
    "        return item\n",
    "\n",
    "    def __len__(self):\n",
    "        return len(self.labels)\n",
    "\n",
    "train_dataset = TaggingDataset(train_encodings, train_data['encoded_tags'].tolist())\n",
    "test_dataset = TaggingDataset(test_encodings, test_data['encoded_tags'].tolist())\n",
    "\n",
    "model = AutoModelForSequenceClassification.from_pretrained(model_name, num_labels=len(label_encoder.classes_))\n",
    "model.to(device)\n",
    "\n",
    "training_args = TrainingArguments(\n",
    "    output_dir='./results',\n",
    "    evaluation_strategy='no',\n",
    "    per_device_train_batch_size=16,\n",
    "    num_train_epochs=30,\n",
    "    weight_decay=0.01,\n",
    "    learning_rate=2e-5,\n",
    "    logging_dir='./logs',\n",
    "    logging_strategy='steps',\n",
    "    logging_steps=100,\n",
    "    fp16=True,\n",
    ")\n",
    "\n",
    "trainer = Trainer(\n",
    "    model=model,\n",
    "    args=training_args,\n",
    "    train_dataset=train_dataset,\n",
    ")\n",
    "\n",
    "trainer.train()\n"
   ]
  },
  {
   "cell_type": "code",
   "execution_count": 7,
   "id": "1c7e25ad-ce66-4ad9-ad44-4264adf1a75c",
   "metadata": {},
   "outputs": [
    {
     "name": "stdout",
     "output_type": "stream",
     "text": [
      "Модель и токенизатор сохранены в папке './saved_model'\n"
     ]
    },
    {
     "data": {
      "text/html": [],
      "text/plain": [
       "<IPython.core.display.HTML object>"
      ]
     },
     "metadata": {},
     "output_type": "display_data"
    }
   ],
   "source": [
    "# Директория для сохранения модели\n",
    "save_directory = './saved_model'\n",
    "os.makedirs(save_directory, exist_ok=True)\n",
    "\n",
    "# Сохраните классы кодировщика меток\n",
    "np.save(os.path.join(save_directory, 'label_encoder_classes.npy'), label_encoder.classes_)\n",
    "\n",
    "# Сохранение модели и токенизатора\n",
    "model.save_pretrained(save_directory)\n",
    "tokenizer.save_pretrained(save_directory)\n",
    "\n",
    "print(f\"Модель и токенизатор сохранены в папке '{save_directory}'\")\n",
    "\n",
    "# Предсказание меток на тестовом наборе\n",
    "preds_output = trainer.predict(test_dataset)\n",
    "preds = np.argmax(preds_output.predictions, axis=1)\n",
    "\n",
    "# Декодируем числовые метки в текстовые теги\n",
    "predicted_tags = label_encoder.inverse_transform(preds)\n",
    "\n",
    "# Сохранение предсказаний\n",
    "test_data[\"predicted_tags\"] = predicted_tags\n",
    "sample_submission = test_data[[\"id\", \"predicted_tags\"]]  # Убедитесь, что 'id' присутствует в данных\n",
    "sample_submission.to_csv(\"sample_submission.csv\", index=False)\n"
   ]
  },
  {
   "cell_type": "code",
   "execution_count": 8,
   "id": "3b1792c9-42e9-43cd-9752-9efd07296a7b",
   "metadata": {},
   "outputs": [
    {
     "name": "stdout",
     "output_type": "stream",
     "text": [
      "FINAL_SCORE: 0.3450\n"
     ]
    }
   ],
   "source": [
    "def iou_metric(ground_truth, predictions):\n",
    "    iou = len(set.intersection(set(ground_truth), set(predictions)))\n",
    "    iou = iou / len(set(ground_truth).union(set(predictions)))\n",
    "    return iou\n",
    "\n",
    "def split_tags(tag_list):\n",
    "    final_tag_list = []\n",
    "    for full_tag in tag_list:\n",
    "        tags = full_tag.split(\", \")  # Сперва разделим теги по запятым, если есть несколько тегов\n",
    "        for tag in tags:\n",
    "            components = tag.split(\": \")\n",
    "            if len(components) >= 1:\n",
    "                # Поэтапно добавляем компоненты, даже если их больше трех\n",
    "                combined = components[0]\n",
    "                final_tag_list.append(combined)\n",
    "                for comp in components[1:]:\n",
    "                    combined += \": \" + comp\n",
    "                    final_tag_list.append(combined)\n",
    "            else:\n",
    "                print(\"NOT IMPLEMENTED!!!!\", tag)\n",
    "    return final_tag_list\n",
    "\n",
    "\n",
    "def find_iou_for_sample_submission(pred_submission_path, true_submission_path):\n",
    "    pred_submission = pd.read_csv(pred_submission_path)\n",
    "    true_submission = pd.read_csv(true_submission_path)\n",
    "\n",
    "    pred_submission[\"predicted_tags\"] = pred_submission[\"predicted_tags\"].apply(lambda x: [x])\n",
    "    true_submission[\"tags\"] = true_submission[\"tags\"].apply(lambda x: [x] if x == x else [])\n",
    "\n",
    "    true_submission[\"tags_split\"] = true_submission[\"tags\"].apply(lambda l: split_tags(l))\n",
    "    pred_submission[\"predicted_tags_split\"] = pred_submission[\"predicted_tags\"].apply(lambda l: split_tags(l))\n",
    "\n",
    "    iou = 0\n",
    "    counter = 0\n",
    "    for i, row in true_submission.iterrows():\n",
    "        predicted_tags = pred_submission[pred_submission[\"id\"] == row[\"id\"]][\"predicted_tags_split\"].values[0]\n",
    "        iou_temp = iou_metric(row['tags_split'], predicted_tags)\n",
    "        iou += iou_temp\n",
    "        counter += 1\n",
    "\n",
    "    return iou/counter\n",
    "\n",
    "# Оценка предсказаний\n",
    "final_score = find_iou_for_sample_submission('sample_submission.csv', 'test_data_tags.csv')\n",
    "print(f\"FINAL_SCORE: {final_score:.4f}\")\n"
   ]
  },
  {
   "cell_type": "code",
   "execution_count": null,
   "id": "e2d1f594-0426-4be7-95bb-18555e0e885b",
   "metadata": {},
   "outputs": [],
   "source": []
  }
 ],
 "metadata": {
  "kernelspec": {
   "display_name": "Python 3 (ipykernel)",
   "language": "python",
   "name": "python3"
  },
  "language_info": {
   "codemirror_mode": {
    "name": "ipython",
    "version": 3
   },
   "file_extension": ".py",
   "mimetype": "text/x-python",
   "name": "python",
   "nbconvert_exporter": "python",
   "pygments_lexer": "ipython3",
   "version": "3.10.12"
  }
 },
 "nbformat": 4,
 "nbformat_minor": 5
}
