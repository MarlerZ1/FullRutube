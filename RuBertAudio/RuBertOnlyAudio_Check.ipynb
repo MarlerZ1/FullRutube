{
 "cells": [
  {
   "cell_type": "code",
   "execution_count": 2,
   "id": "ba1d76df-5177-485e-b357-5cb9301ff26d",
   "metadata": {},
   "outputs": [
    {
     "data": {
      "text/plain": [
       "BertForSequenceClassification(\n",
       "  (bert): BertModel(\n",
       "    (embeddings): BertEmbeddings(\n",
       "      (word_embeddings): Embedding(119547, 768, padding_idx=0)\n",
       "      (position_embeddings): Embedding(512, 768)\n",
       "      (token_type_embeddings): Embedding(2, 768)\n",
       "      (LayerNorm): LayerNorm((768,), eps=1e-12, elementwise_affine=True)\n",
       "      (dropout): Dropout(p=0.1, inplace=False)\n",
       "    )\n",
       "    (encoder): BertEncoder(\n",
       "      (layer): ModuleList(\n",
       "        (0-11): 12 x BertLayer(\n",
       "          (attention): BertAttention(\n",
       "            (self): BertSdpaSelfAttention(\n",
       "              (query): Linear(in_features=768, out_features=768, bias=True)\n",
       "              (key): Linear(in_features=768, out_features=768, bias=True)\n",
       "              (value): Linear(in_features=768, out_features=768, bias=True)\n",
       "              (dropout): Dropout(p=0.1, inplace=False)\n",
       "            )\n",
       "            (output): BertSelfOutput(\n",
       "              (dense): Linear(in_features=768, out_features=768, bias=True)\n",
       "              (LayerNorm): LayerNorm((768,), eps=1e-12, elementwise_affine=True)\n",
       "              (dropout): Dropout(p=0.1, inplace=False)\n",
       "            )\n",
       "          )\n",
       "          (intermediate): BertIntermediate(\n",
       "            (dense): Linear(in_features=768, out_features=3072, bias=True)\n",
       "            (intermediate_act_fn): GELUActivation()\n",
       "          )\n",
       "          (output): BertOutput(\n",
       "            (dense): Linear(in_features=3072, out_features=768, bias=True)\n",
       "            (LayerNorm): LayerNorm((768,), eps=1e-12, elementwise_affine=True)\n",
       "            (dropout): Dropout(p=0.1, inplace=False)\n",
       "          )\n",
       "        )\n",
       "      )\n",
       "    )\n",
       "    (pooler): BertPooler(\n",
       "      (dense): Linear(in_features=768, out_features=768, bias=True)\n",
       "      (activation): Tanh()\n",
       "    )\n",
       "  )\n",
       "  (dropout): Dropout(p=0.1, inplace=False)\n",
       "  (classifier): Linear(in_features=768, out_features=87, bias=True)\n",
       ")"
      ]
     },
     "execution_count": 2,
     "metadata": {},
     "output_type": "execute_result"
    }
   ],
   "source": [
    "import torch\n",
    "from transformers import AutoTokenizer, AutoModelForSequenceClassification\n",
    "import re\n",
    "import numpy as np\n",
    "from sklearn.preprocessing import LabelEncoder\n",
    "\n",
    "# Загрузка модели и токенизатора\n",
    "model = AutoModelForSequenceClassification.from_pretrained(\"./saved_model\")\n",
    "tokenizer = AutoTokenizer.from_pretrained(\"./saved_model\")\n",
    "\n",
    "# Используем устройство CUDA, если доступно\n",
    "device = torch.device(\"cuda\" if torch.cuda.is_available() else \"cpu\")\n",
    "model.to(device)\n"
   ]
  },
  {
   "cell_type": "code",
   "execution_count": 3,
   "id": "39f99f2f-4931-4531-adf4-55547706a552",
   "metadata": {},
   "outputs": [],
   "source": [
    "# Функция нормализации текста\n",
    "def normalize_text(text):\n",
    "    text = text.strip().lower()\n",
    "    text = re.sub(r'\\s+', ' ', text)  # Удаление лишних пробелов\n",
    "    text = re.sub(r'[^\\w\\s]', '', text)  # Удаление пунктуации и неалфавитных символов\n",
    "    return text\n"
   ]
  },
  {
   "cell_type": "code",
   "execution_count": 4,
   "id": "58bf5b06-420d-443f-b9ec-081c66868e39",
   "metadata": {},
   "outputs": [
    {
     "name": "stdin",
     "output_type": "stream",
     "text": [
      "Введите транскрипцию видео:  Наташа Альфутова сама изобретатель. Здесь вы видите, как работают их тела. Они создают новые системы жизни. Даже сегодня в детском саду они не ездили.\n"
     ]
    },
    {
     "name": "stdout",
     "output_type": "stream",
     "text": [
      "Предсказанные теги с вероятностями:\n",
      "Информационные технологии: 0.0647\n",
      "Семья и отношения: 0.0309\n",
      "Карьера: 0.0280\n",
      "Семья и отношения: Развод: 0.0240\n",
      "Создание контента: Личные события: 0.0230\n"
     ]
    }
   ],
   "source": [
    "# Ввод заголовка и описания видео\n",
    "title = input(\"Введите транскрипцию видео: \")\n",
    "\n",
    "# Объединение и нормализация текста\n",
    "input_text = title\n",
    "normalized_text = normalize_text(input_text)\n",
    "\n",
    "# Токенизация\n",
    "encoding = tokenizer(normalized_text, return_tensors='pt', truncation=True, padding=True, max_length=256)\n",
    "encoding = {k: v.to(device) for k, v in encoding.items()}\n",
    "\n",
    "# Предсказание\n",
    "with torch.no_grad():\n",
    "    outputs = model(**encoding)\n",
    "    probabilities = torch.nn.functional.softmax(outputs.logits, dim=-1)\n",
    "\n",
    "# Загрузка кодировщика меток, использованного для обучения\n",
    "label_encoder = LabelEncoder()\n",
    "label_encoder.classes_ = np.load('./saved_model/label_encoder_classes.npy', allow_pickle=True)\n",
    "\n",
    "# Вывод тегов с вероятностями\n",
    "top_k = 5  # Количество выводимых тегов\n",
    "probabilities, indices = torch.topk(probabilities, top_k, dim=1)\n",
    "\n",
    "print(\"Предсказанные теги с вероятностями:\")\n",
    "for prob, idx in zip(probabilities[0], indices[0]):\n",
    "    tag = label_encoder.inverse_transform([idx.item()])[0]\n",
    "    print(f\"{tag}: {prob.item():.4f}\")\n"
   ]
  },
  {
   "cell_type": "code",
   "execution_count": null,
   "id": "b485bfa9-9b1a-4fc5-8bdd-b8f30f87db54",
   "metadata": {},
   "outputs": [],
   "source": []
  }
 ],
 "metadata": {
  "kernelspec": {
   "display_name": "Python 3 (ipykernel)",
   "language": "python",
   "name": "python3"
  },
  "language_info": {
   "codemirror_mode": {
    "name": "ipython",
    "version": 3
   },
   "file_extension": ".py",
   "mimetype": "text/x-python",
   "name": "python",
   "nbconvert_exporter": "python",
   "pygments_lexer": "ipython3",
   "version": "3.10.12"
  }
 },
 "nbformat": 4,
 "nbformat_minor": 5
}
