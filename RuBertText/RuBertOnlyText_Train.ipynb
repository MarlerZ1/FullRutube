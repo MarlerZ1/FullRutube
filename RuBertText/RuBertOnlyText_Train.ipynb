{
 "cells": [
  {
   "cell_type": "markdown",
   "id": "11252e38-1363-4749-9547-e5e63c432ce4",
   "metadata": {},
   "source": [
    "Установка и инициализация"
   ]
  },
  {
   "cell_type": "code",
   "execution_count": 1,
   "id": "a6a9cd23-5189-45af-be7d-03d5edd92192",
   "metadata": {},
   "outputs": [],
   "source": [
    "import pandas as pd\n",
    "import torch\n",
    "from torch.utils.data import Dataset\n",
    "from transformers import AutoTokenizer, AutoModelForSequenceClassification, TrainingArguments, Trainer\n",
    "from sklearn.model_selection import train_test_split\n",
    "from sklearn.preprocessing import LabelEncoder\n",
    "import re\n",
    "import numpy as np\n",
    "import os"
   ]
  },
  {
   "cell_type": "markdown",
   "id": "c2f6f201-0174-4d35-b947-fdda8a02a421",
   "metadata": {},
   "source": [
    "Обработка данных"
   ]
  },
  {
   "cell_type": "code",
   "execution_count": 2,
   "id": "61f4e769-bf75-4a3d-bc96-c63425018cf9",
   "metadata": {},
   "outputs": [
    {
     "name": "stdout",
     "output_type": "stream",
     "text": [
      "Using device: cuda\n",
      "Файл 'test_data_tags.csv' успешно создан.\n"
     ]
    }
   ],
   "source": [
    "# Проверяем доступность устройства CUDA\n",
    "device = torch.device(\"cuda\" if torch.cuda.is_available() else \"cpu\")\n",
    "print(f\"Using device: {device}\")\n",
    "\n",
    "# Загрузка и нормализация данных\n",
    "data_path = '/home/user1/hak/filtered_train_data_categories_test.csv'\n",
    "data = pd.read_csv(data_path)\n",
    "data[\"tags\"] = data[\"tags\"].apply(lambda x: x.split(',')[0])  # Одиночные метки\n",
    "\n",
    "def normalize_text(text):\n",
    "    text = text.strip().lower()\n",
    "    text = re.sub(r'\\s+', ' ', text)  # Удаление лишних пробелов\n",
    "    text = re.sub(r'[^\\w\\s]', '', text)  # Удаление пунктуации\n",
    "    return text\n",
    "\n",
    "data[\"title\"] = data[\"title\"].apply(normalize_text)\n",
    "data[\"description\"] = data[\"description\"].apply(normalize_text)\n",
    "data[\"text\"] = data[\"title\"] + \" \" + data[\"description\"]\n",
    "\n",
    "# Кодирование меток\n",
    "label_encoder = LabelEncoder()\n",
    "data[\"encoded_tags\"] = label_encoder.fit_transform(data[\"tags\"].tolist())\n",
    "\n",
    "# Разделение данных\n",
    "train_data, test_data = train_test_split(data, test_size=0.2, random_state=42)\n",
    "\n",
    "# Сохранение тестового набора\n",
    "test_data.to_csv('test_data_tags.csv', index=False)\n",
    "print(\"Файл 'test_data_tags.csv' успешно создан.\")\n"
   ]
  },
  {
   "cell_type": "markdown",
   "id": "c3137e0e-cd19-4435-8915-b9ca816239a2",
   "metadata": {},
   "source": [
    "Подготовка данных для обучения"
   ]
  },
  {
   "cell_type": "code",
   "execution_count": 3,
   "id": "b560933b-fb54-4cc2-a5a6-40911ed824f8",
   "metadata": {},
   "outputs": [],
   "source": [
    "# Используем модель RuBERT\n",
    "model_name = \"DeepPavlov/rubert-base-cased\"\n",
    "tokenizer = AutoTokenizer.from_pretrained(model_name)\n",
    "\n",
    "train_encodings = tokenizer(train_data['text'].tolist(), truncation=True, padding=True, max_length=256)\n",
    "test_encodings = tokenizer(test_data['text'].tolist(), truncation=True, padding=True, max_length=256)\n",
    "\n",
    "class TaggingDataset(Dataset):\n",
    "    def __init__(self, encodings, labels):\n",
    "        self.encodings = encodings\n",
    "        self.labels = labels\n",
    "\n",
    "    def __getitem__(self, idx):\n",
    "        item = {key: torch.tensor(val[idx]) for key, val in self.encodings.items()}\n",
    "        item['labels'] = torch.tensor(self.labels[idx], dtype=torch.long)\n",
    "        return item\n",
    "\n",
    "    def __len__(self):\n",
    "        return len(self.labels)\n",
    "\n",
    "train_dataset = TaggingDataset(train_encodings, train_data['encoded_tags'].tolist())\n",
    "test_dataset = TaggingDataset(test_encodings, test_data['encoded_tags'].tolist())\n"
   ]
  },
  {
   "cell_type": "markdown",
   "id": "cd471c4a-eca0-48fa-bf5c-85fc38befb21",
   "metadata": {},
   "source": [
    "Обучение модели"
   ]
  },
  {
   "cell_type": "code",
   "execution_count": 4,
   "id": "3d6bb776-67ea-4c52-918a-2d0ded59d12c",
   "metadata": {},
   "outputs": [
    {
     "name": "stderr",
     "output_type": "stream",
     "text": [
      "Some weights of BertForSequenceClassification were not initialized from the model checkpoint at DeepPavlov/rubert-base-cased and are newly initialized: ['classifier.bias', 'classifier.weight']\n",
      "You should probably TRAIN this model on a down-stream task to be able to use it for predictions and inference.\n",
      "/usr/local/lib/python3.10/dist-packages/transformers/training_args.py:1545: FutureWarning: `evaluation_strategy` is deprecated and will be removed in version 4.46 of 🤗 Transformers. Use `eval_strategy` instead\n",
      "  warnings.warn(\n",
      "/home/user1/.local/lib/python3.10/site-packages/accelerate/accelerator.py:494: FutureWarning: `torch.cuda.amp.GradScaler(args...)` is deprecated. Please use `torch.amp.GradScaler('cuda', args...)` instead.\n",
      "  self.scaler = torch.cuda.amp.GradScaler(**kwargs)\n"
     ]
    },
    {
     "data": {
      "text/html": [
       "\n",
       "    <div>\n",
       "      \n",
       "      <progress value='520' max='520' style='width:300px; height:20px; vertical-align: middle;'></progress>\n",
       "      [520/520 01:08, Epoch 10/10]\n",
       "    </div>\n",
       "    <table border=\"1\" class=\"dataframe\">\n",
       "  <thead>\n",
       " <tr style=\"text-align: left;\">\n",
       "      <th>Step</th>\n",
       "      <th>Training Loss</th>\n",
       "    </tr>\n",
       "  </thead>\n",
       "  <tbody>\n",
       "    <tr>\n",
       "      <td>500</td>\n",
       "      <td>2.324000</td>\n",
       "    </tr>\n",
       "  </tbody>\n",
       "</table><p>"
      ],
      "text/plain": [
       "<IPython.core.display.HTML object>"
      ]
     },
     "metadata": {},
     "output_type": "display_data"
    },
    {
     "data": {
      "text/plain": [
       "TrainOutput(global_step=520, training_loss=2.2928170424241285, metrics={'train_runtime': 68.9841, 'train_samples_per_second': 118.868, 'train_steps_per_second': 7.538, 'total_flos': 1079956354867200.0, 'train_loss': 2.2928170424241285, 'epoch': 10.0})"
      ]
     },
     "execution_count": 4,
     "metadata": {},
     "output_type": "execute_result"
    }
   ],
   "source": [
    "model = AutoModelForSequenceClassification.from_pretrained(model_name, num_labels=len(label_encoder.classes_))\n",
    "model.to(device)\n",
    "\n",
    "training_args = TrainingArguments(\n",
    "    output_dir='./results',\n",
    "    evaluation_strategy='no',\n",
    "    per_device_train_batch_size=16,\n",
    "    num_train_epochs=10,\n",
    "    weight_decay=0.01,\n",
    "    learning_rate=2e-5,\n",
    "    logging_dir='./logs',\n",
    "    logging_strategy='steps',\n",
    "    logging_steps=500,\n",
    "    fp16=True,\n",
    ")\n",
    "\n",
    "trainer = Trainer(\n",
    "    model=model,\n",
    "    args=training_args,\n",
    "    train_dataset=train_dataset,\n",
    ")\n",
    "\n",
    "trainer.train()\n"
   ]
  },
  {
   "cell_type": "markdown",
   "id": "7cf6fa22-372a-49e9-b0e1-53dff9718746",
   "metadata": {},
   "source": [
    "Сохранение модели и предсказания"
   ]
  },
  {
   "cell_type": "code",
   "execution_count": 5,
   "id": "0a21fe27-e16b-419d-a658-3e0b05c104f3",
   "metadata": {},
   "outputs": [
    {
     "name": "stdout",
     "output_type": "stream",
     "text": [
      "Модель и токенизатор сохранены в папке './saved_model'\n"
     ]
    },
    {
     "data": {
      "text/html": [],
      "text/plain": [
       "<IPython.core.display.HTML object>"
      ]
     },
     "metadata": {},
     "output_type": "display_data"
    }
   ],
   "source": [
    "# Директория для сохранения модели\n",
    "save_directory = './saved_model'\n",
    "os.makedirs(save_directory, exist_ok=True)\n",
    "\n",
    "# Сохраните классы кодировщика меток\n",
    "np.save(os.path.join(save_directory, 'label_encoder_classes.npy'), label_encoder.classes_)\n",
    "\n",
    "# Сохранение модели и токенизатора\n",
    "model.save_pretrained(save_directory)\n",
    "tokenizer.save_pretrained(save_directory)\n",
    "\n",
    "print(f\"Модель и токенизатор сохранены в папке '{save_directory}'\")\n",
    "\n",
    "# Предсказание меток на тестовом наборе\n",
    "preds_output = trainer.predict(test_dataset)\n",
    "preds = np.argmax(preds_output.predictions, axis=1)\n",
    "\n",
    "# Декодируем числовые метки в текстовые теги\n",
    "predicted_tags = label_encoder.inverse_transform(preds)\n",
    "\n",
    "# Сохранение предсказаний\n",
    "test_data[\"predicted_tags\"] = predicted_tags\n",
    "sample_submission = test_data[[\"video_id\", \"predicted_tags\"]]  # Убедитесь, что video_id присутствует\n",
    "sample_submission.to_csv(\"sample_submission.csv\", index=False)\n"
   ]
  },
  {
   "cell_type": "markdown",
   "id": "a96b5d67-4d35-4b8c-bb97-78ecf887cf29",
   "metadata": {},
   "source": [
    "Оценка качества"
   ]
  },
  {
   "cell_type": "code",
   "execution_count": 6,
   "id": "67b27126-b14c-4420-baeb-71f307ccedcf",
   "metadata": {},
   "outputs": [
    {
     "name": "stdout",
     "output_type": "stream",
     "text": [
      "FINAL_SCORE: 0.6854\n"
     ]
    }
   ],
   "source": [
    "def iou_metric(ground_truth, predictions):\n",
    "    iou = len(set.intersection(set(ground_truth), set(predictions)))\n",
    "    iou = iou / len(set(ground_truth).union(set(predictions)))\n",
    "    return iou\n",
    "\n",
    "def split_tags(tag_list):\n",
    "    final_tag_list = []\n",
    "    for tag in tag_list:\n",
    "        tags = tag.split(\": \")\n",
    "        if len(tags) == 3:\n",
    "            final_tag_list.append(tags[0])\n",
    "            final_tag_list.append(tags[0] + \": \" + tags[1])\n",
    "            final_tag_list.append(tags[0] + \": \" + tags[1] + \": \" + tags[2])\n",
    "        elif len(tags) == 2:\n",
    "            final_tag_list.append(tags[0])\n",
    "            final_tag_list.append(tags[0] + \": \" + tags[1])\n",
    "        elif len(tags) == 1:\n",
    "            final_tag_list.append(tags[0])\n",
    "        else:\n",
    "            print(\"NOT IMPLEMENTED!!!!\", tag)\n",
    "    return final_tag_list\n",
    "\n",
    "def find_iou_for_sample_submission(pred_submission_path, true_submission_path):\n",
    "    pred_submission = pd.read_csv(pred_submission_path)\n",
    "    true_submission = pd.read_csv(true_submission_path)\n",
    "\n",
    "    pred_submission[\"predicted_tags\"] = pred_submission[\"predicted_tags\"].apply(lambda x: [x])\n",
    "    true_submission[\"tags\"] = true_submission[\"tags\"].apply(lambda x: [x] if x == x else [])\n",
    "\n",
    "    true_submission[\"tags_split\"] = true_submission[\"tags\"].apply(lambda l: split_tags(l))\n",
    "    pred_submission[\"predicted_tags_split\"] = pred_submission[\"predicted_tags\"].apply(lambda l: split_tags(l))\n",
    "\n",
    "    iou = 0\n",
    "    counter = 0\n",
    "    for i, row in true_submission.iterrows():\n",
    "        predicted_tags = pred_submission[pred_submission[\"video_id\"] == row[\"video_id\"]][\"predicted_tags_split\"].values[0]\n",
    "        iou_temp = iou_metric(row['tags_split'], predicted_tags)\n",
    "        iou += iou_temp\n",
    "        counter += 1\n",
    "\n",
    "    return iou/counter\n",
    "\n",
    "# Оценка предсказаний\n",
    "final_score = find_iou_for_sample_submission('sample_submission.csv', 'test_data_tags.csv')\n",
    "print(f\"FINAL_SCORE: {final_score:.4f}\")\n"
   ]
  },
  {
   "cell_type": "code",
   "execution_count": null,
   "id": "f3695d14-56ac-48df-8987-01ace968ab66",
   "metadata": {},
   "outputs": [],
   "source": []
  }
 ],
 "metadata": {
  "kernelspec": {
   "display_name": "Python 3 (ipykernel)",
   "language": "python",
   "name": "python3"
  },
  "language_info": {
   "codemirror_mode": {
    "name": "ipython",
    "version": 3
   },
   "file_extension": ".py",
   "mimetype": "text/x-python",
   "name": "python",
   "nbconvert_exporter": "python",
   "pygments_lexer": "ipython3",
   "version": "3.10.12"
  }
 },
 "nbformat": 4,
 "nbformat_minor": 5
}
