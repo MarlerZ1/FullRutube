{
 "cells": [
  {
   "cell_type": "code",
   "execution_count": 7,
   "id": "2e098890-db71-4f55-af5d-531f0131947a",
   "metadata": {},
   "outputs": [
    {
     "data": {
      "text/plain": [
       "BertForSequenceClassification(\n",
       "  (bert): BertModel(\n",
       "    (embeddings): BertEmbeddings(\n",
       "      (word_embeddings): Embedding(119547, 768, padding_idx=0)\n",
       "      (position_embeddings): Embedding(512, 768)\n",
       "      (token_type_embeddings): Embedding(2, 768)\n",
       "      (LayerNorm): LayerNorm((768,), eps=1e-12, elementwise_affine=True)\n",
       "      (dropout): Dropout(p=0.1, inplace=False)\n",
       "    )\n",
       "    (encoder): BertEncoder(\n",
       "      (layer): ModuleList(\n",
       "        (0-11): 12 x BertLayer(\n",
       "          (attention): BertAttention(\n",
       "            (self): BertSdpaSelfAttention(\n",
       "              (query): Linear(in_features=768, out_features=768, bias=True)\n",
       "              (key): Linear(in_features=768, out_features=768, bias=True)\n",
       "              (value): Linear(in_features=768, out_features=768, bias=True)\n",
       "              (dropout): Dropout(p=0.1, inplace=False)\n",
       "            )\n",
       "            (output): BertSelfOutput(\n",
       "              (dense): Linear(in_features=768, out_features=768, bias=True)\n",
       "              (LayerNorm): LayerNorm((768,), eps=1e-12, elementwise_affine=True)\n",
       "              (dropout): Dropout(p=0.1, inplace=False)\n",
       "            )\n",
       "          )\n",
       "          (intermediate): BertIntermediate(\n",
       "            (dense): Linear(in_features=768, out_features=3072, bias=True)\n",
       "            (intermediate_act_fn): GELUActivation()\n",
       "          )\n",
       "          (output): BertOutput(\n",
       "            (dense): Linear(in_features=3072, out_features=768, bias=True)\n",
       "            (LayerNorm): LayerNorm((768,), eps=1e-12, elementwise_affine=True)\n",
       "            (dropout): Dropout(p=0.1, inplace=False)\n",
       "          )\n",
       "        )\n",
       "      )\n",
       "    )\n",
       "    (pooler): BertPooler(\n",
       "      (dense): Linear(in_features=768, out_features=768, bias=True)\n",
       "      (activation): Tanh()\n",
       "    )\n",
       "  )\n",
       "  (dropout): Dropout(p=0.1, inplace=False)\n",
       "  (classifier): Linear(in_features=768, out_features=126, bias=True)\n",
       ")"
      ]
     },
     "execution_count": 7,
     "metadata": {},
     "output_type": "execute_result"
    }
   ],
   "source": [
    "import torch\n",
    "from transformers import AutoTokenizer, AutoModelForSequenceClassification\n",
    "import re\n",
    "import numpy as np\n",
    "from sklearn.preprocessing import LabelEncoder\n",
    "\n",
    "# Загрузка модели и токенизатора\n",
    "model = AutoModelForSequenceClassification.from_pretrained(\"./saved_model\")\n",
    "tokenizer = AutoTokenizer.from_pretrained(\"./saved_model\")\n",
    "\n",
    "# Используем устройство CUDA, если доступно\n",
    "device = torch.device(\"cuda\" if torch.cuda.is_available() else \"cpu\")\n",
    "model.to(device)\n"
   ]
  },
  {
   "cell_type": "code",
   "execution_count": 8,
   "id": "01de61b8-a58e-419c-9647-e6b9eae0a926",
   "metadata": {},
   "outputs": [],
   "source": [
    "# Функция нормализации текста\n",
    "def normalize_text(text):\n",
    "    text = text.strip().lower()\n",
    "    text = re.sub(r'\\s+', ' ', text)  # Удаление лишних пробелов\n",
    "    text = re.sub(r'[^\\w\\s]', '', text)  # Удаление пунктуации и неалфавитных символов\n",
    "    return text\n"
   ]
  },
  {
   "cell_type": "code",
   "execution_count": 14,
   "id": "0e618051-75bc-41b6-b1ae-f322d0fcfa38",
   "metadata": {},
   "outputs": [
    {
     "name": "stdin",
     "output_type": "stream",
     "text": [
      "Введите заголовок видео:  TikTok Дайджест | Выпуск 3\n",
      "Введите описание видео:  Встречайте свежий выпуск с Настей Витоновой. Свежие сплетни, актуальные тренды, интересные новости - смотрите, внимайте, обожайте!\n"
     ]
    },
    {
     "name": "stdout",
     "output_type": "stream",
     "text": [
      "Предсказанные теги с вероятностями:\n",
      "Массовая культура: 0.9967\n",
      "Массовая культура: Отношения знаменитостей: 0.0007\n",
      "Музыка и аудио: Комедия и стендап (Музыка и аудио): 0.0002\n",
      "Массовая культура: Юмор и сатира: 0.0002\n",
      "Хобби и интересы: 0.0002\n"
     ]
    }
   ],
   "source": [
    "# Ввод заголовка и описания видео\n",
    "title = input(\"Введите заголовок видео: \")\n",
    "description = input(\"Введите описание видео: \")\n",
    "\n",
    "# Объединение и нормализация текста\n",
    "input_text = title + \" \" + description\n",
    "normalized_text = normalize_text(input_text)\n",
    "\n",
    "# Токенизация\n",
    "encoding = tokenizer(normalized_text, return_tensors='pt', truncation=True, padding=True, max_length=256)\n",
    "encoding = {k: v.to(device) for k, v in encoding.items()}\n",
    "\n",
    "# Предсказание\n",
    "with torch.no_grad():\n",
    "    outputs = model(**encoding)\n",
    "    probabilities = torch.nn.functional.softmax(outputs.logits, dim=-1)\n",
    "\n",
    "# Загрузка кодировщика меток, использованного для обучения\n",
    "label_encoder = LabelEncoder()\n",
    "label_encoder.classes_ = np.load('./saved_model/label_encoder_classes.npy', allow_pickle=True)\n",
    "\n",
    "# Вывод тегов с вероятностями\n",
    "top_k = 5  # Количество выводимых тегов\n",
    "probabilities, indices = torch.topk(probabilities, top_k, dim=1)\n",
    "\n",
    "print(\"Предсказанные теги с вероятностями:\")\n",
    "for prob, idx in zip(probabilities[0], indices[0]):\n",
    "    tag = label_encoder.inverse_transform([idx.item()])[0]\n",
    "    print(f\"{tag}: {prob.item():.4f}\")\n"
   ]
  },
  {
   "cell_type": "code",
   "execution_count": null,
   "id": "9c07b968-dc35-49d0-bfef-6a062ab6fd36",
   "metadata": {},
   "outputs": [],
   "source": []
  }
 ],
 "metadata": {
  "kernelspec": {
   "display_name": "Python 3 (ipykernel)",
   "language": "python",
   "name": "python3"
  },
  "language_info": {
   "codemirror_mode": {
    "name": "ipython",
    "version": 3
   },
   "file_extension": ".py",
   "mimetype": "text/x-python",
   "name": "python",
   "nbconvert_exporter": "python",
   "pygments_lexer": "ipython3",
   "version": "3.10.12"
  }
 },
 "nbformat": 4,
 "nbformat_minor": 5
}
